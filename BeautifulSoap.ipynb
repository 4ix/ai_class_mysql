{
 "cells": [
  {
   "cell_type": "code",
   "execution_count": 2,
   "metadata": {},
   "outputs": [],
   "source": [
    "from bs4 import BeautifulSoup\n",
    "ex1 = '''\n",
    "<html>\n",
    "    <head>\n",
    "        <title> HTML 연습 </title>\n",
    "    </head>\n",
    "    <body>\n",
    "        <p align='center'> text 1 </p>\n",
    "        <p align='right'> text 2 </p>\n",
    "        <p align='left'> text 3 </p>\n",
    "        <img src=\"./HTML 예제/좌우명.png\">\n",
    "    </body>\n",
    "</html>\n",
    "'''"
   ]
  },
  {
   "cell_type": "code",
   "execution_count": 3,
   "metadata": {},
   "outputs": [],
   "source": [
    "soup = BeautifulSoup(ex1, 'html.parser')"
   ]
  },
  {
   "cell_type": "code",
   "execution_count": 5,
   "metadata": {},
   "outputs": [
    {
     "name": "stdout",
     "output_type": "stream",
     "text": [
      "<p align=\"center\"> text 1 </p>\n",
      "<p align=\"right\"> text 2 </p>\n",
      "[<p align=\"center\"> text 1 </p>, <p align=\"right\"> text 2 </p>, <p align=\"left\"> text 3 </p>]\n",
      "[<p align=\"center\"> text 1 </p>, <p align=\"right\"> text 2 </p>, <p align=\"left\"> text 3 </p>, <img src=\"./HTML 예제/좌우명.png\"/>]\n"
     ]
    }
   ],
   "source": [
    "print(soup.find('p'))\n",
    "print(soup.find('p', align=\"right\"))\n",
    "print(soup.find_all('p'))\n",
    "print(soup.find_all(['p','img']))"
   ]
  }
 ],
 "metadata": {
  "kernelspec": {
   "display_name": "base",
   "language": "python",
   "name": "python3"
  },
  "language_info": {
   "codemirror_mode": {
    "name": "ipython",
    "version": 3
   },
   "file_extension": ".py",
   "mimetype": "text/x-python",
   "name": "python",
   "nbconvert_exporter": "python",
   "pygments_lexer": "ipython3",
   "version": "3.9.13"
  },
  "orig_nbformat": 4,
  "vscode": {
   "interpreter": {
    "hash": "ad2bdc8ecc057115af97d19610ffacc2b4e99fae6737bb82f5d7fb13d2f2c186"
   }
  }
 },
 "nbformat": 4,
 "nbformat_minor": 2
}
